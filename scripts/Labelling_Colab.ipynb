{
  "cells": [
    {
      "cell_type": "markdown",
      "metadata": {
        "id": "nts0qmj1L4Ob"
      },
      "source": [
        "## Labelling\n",
        "This notebook manages the labelling of the webcam images saved in a goole drive directory."
      ]
    },
    {
      "cell_type": "markdown",
      "metadata": {
        "id": "Rdabkqf6meCW"
      },
      "source": [
        "### Preparations"
      ]
    },
    {
      "cell_type": "code",
      "execution_count": 1,
      "metadata": {
        "colab": {
          "base_uri": "https://localhost:8080/"
        },
        "id": "-EXgptkAK_w0",
        "outputId": "696af3fd-01e6-492f-c049-644d5a18bc0c"
      },
      "outputs": [
        {
          "output_type": "stream",
          "name": "stdout",
          "text": [
            "Mounted at /content/drive\n"
          ]
        }
      ],
      "source": [
        "# import the modules\n",
        "import os\n",
        "from os import listdir\n",
        "from skimage import io\n",
        "import matplotlib.pyplot as plt\n",
        "import pandas as pd\n",
        "from time import sleep\n",
        "from IPython.display import clear_output\n",
        "\n",
        "# mount google drive\n",
        "from google.colab import drive\n",
        "drive.mount(\"/content/drive\")  # mount google drive\n",
        "\n",
        "# define paths:\n",
        "master_dir = \"/content/drive/MyDrive/CAS/M3_ML/Project_Moentschele/\"\n",
        "originals_dir = \"/content/drive/MyDrive/CAS/M3_ML/Project_Moentschele/Originals/\"\n",
        "\n",
        "\n",
        "# initialize variables:\n",
        "not_readable_images = []"
      ]
    },
    {
      "cell_type": "code",
      "execution_count": 2,
      "metadata": {
        "id": "OHlHllDZNMrA"
      },
      "outputs": [],
      "source": [
        "#Function to select Möntschele images by start and end datetime. Returns True if the image is between the datetimes. Format: YYYYMMDD HHSS (e.g. 20220926 1856)\n",
        "from dateutil.parser import parse\n",
        "\n",
        "def fn_select_images(from_datetime, to_datetime, image_name):\n",
        "  #parse inputs to datetime\n",
        "  from_datetime = parse(from_datetime)\n",
        "  to_datetime = parse(to_datetime)\n",
        "  datetime_image = parse(image_name[1:9]+\" \"+image_name[10:14])\n",
        "  #return True or False\n",
        "  return from_datetime < datetime_image < to_datetime"
      ]
    },
    {
      "cell_type": "markdown",
      "metadata": {
        "id": "CiRDKCDamiio"
      },
      "source": [
        "### Import labelling.csv"
      ]
    },
    {
      "cell_type": "markdown",
      "metadata": {
        "id": "PQnyTpCRBYL4"
      },
      "source": [
        "Always import the labelling.csv at the beginning so that we import already labelled images."
      ]
    },
    {
      "cell_type": "code",
      "execution_count": 3,
      "metadata": {
        "id": "nE9ViPXbJkuM"
      },
      "outputs": [],
      "source": [
        "label_df_from_csv = pd.read_csv(master_dir+\"labels.csv\")\n",
        "label_dict = {}\n",
        "\n",
        "for ind in label_df_from_csv.index:\n",
        "  wind_direction_csv = label_df_from_csv['wind_direction'][ind]\n",
        "  wind_force_csv = label_df_from_csv['wind_force'][ind]\n",
        "  label_list_csv = [wind_direction_csv,wind_force_csv]\n",
        "  label_dict[label_df_from_csv['Unnamed: 0'][ind]] = label_list_csv"
      ]
    },
    {
      "cell_type": "code",
      "execution_count": 4,
      "metadata": {
        "colab": {
          "base_uri": "https://localhost:8080/"
        },
        "id": "8VkTjUqWGv21",
        "outputId": "c2dcc688-ccbb-4d22-dd48-e41331e9b253"
      },
      "outputs": [
        {
          "output_type": "stream",
          "name": "stdout",
          "text": [
            "Already labelled images: 459\n"
          ]
        }
      ],
      "source": [
        "# Show already labelled items:\n",
        "countLabels = 0\n",
        "for k, v in label_dict.items():\n",
        "  if v != ['windDirectionDummy', 'WindForceDummy']:\n",
        "    countLabels += 1\n",
        "    #print(k, v)\n",
        "print(f\"Already labelled images: {countLabels}\")"
      ]
    },
    {
      "cell_type": "code",
      "execution_count": 5,
      "metadata": {
        "colab": {
          "base_uri": "https://localhost:8080/"
        },
        "id": "nk-geYxVFM11",
        "outputId": "2ba0ab4e-f318-4f25-b332-3bd0f4331da4"
      },
      "outputs": [
        {
          "output_type": "stream",
          "name": "stdout",
          "text": [
            "Added items: 4565\n"
          ]
        }
      ],
      "source": [
        "# load new image names to dict and add dummy labels\n",
        "label_list = ['windDirectionDummy', 'WindForceDummy']\n",
        "count = 0\n",
        "for images in os.listdir(originals_dir):\n",
        "    if (images.endswith(\".jpg\")) and images not in label_dict:\n",
        "      label_dict[images] = label_list\n",
        "      count += 1\n",
        "print(f'Added items: {count}')"
      ]
    },
    {
      "cell_type": "markdown",
      "metadata": {
        "id": "u2Fxs52v5Z9f"
      },
      "source": [
        "###Manage not readable images (done for first load of images)"
      ]
    },
    {
      "cell_type": "code",
      "execution_count": null,
      "metadata": {
        "id": "BvsAY7qjPQtG"
      },
      "outputs": [],
      "source": [
        "#get not readable images (in case image was not fully downloaded)\n",
        "for k,v in label_dict.items():\n",
        "  try:\n",
        "    image = io.imread(originals_dir+k)\n",
        "  except:\n",
        "    not_readable_images.append(k)"
      ]
    },
    {
      "cell_type": "code",
      "execution_count": null,
      "metadata": {
        "colab": {
          "base_uri": "https://localhost:8080/"
        },
        "id": "Ib1RVoUwRsFa",
        "outputId": "f9144852-8d9f-40b6-df8c-73cc1e4f4cbb"
      },
      "outputs": [
        {
          "data": {
            "text/plain": [
              "['D20221012_162056_5514.jpg',\n",
              " 'D20221012_170556_8634.jpg',\n",
              " 'D20221012_171056_8980.jpg',\n",
              " 'D20221013_124553_0046.jpg',\n",
              " 'D20221013_163553_5927.jpg',\n",
              " 'D20221015_094114_5894.jpg',\n",
              " 'D20221015_110114_1409.jpg',\n",
              " 'D20221015_120114_5518.jpg',\n",
              " 'D20221015_121114_6201.jpg',\n",
              " 'D20221015_140614_4128.jpg',\n",
              " 'D20221015_143114_5851.jpg',\n",
              " 'D20221016_092500_5578.jpg',\n",
              " 'D20221017_091204_5139.jpg',\n",
              " 'D20221017_122704_8495.jpg',\n",
              " 'D20221019_091227_4845.jpg',\n",
              " 'D20221019_094727_7237.jpg',\n",
              " 'D20221019_115727_6183.jpg',\n",
              " 'D20221019_122727_8233.jpg',\n",
              " 'D20221006_090628_0055.jpg',\n",
              " 'D20221006_113628_0262.jpg']"
            ]
          },
          "execution_count": 7,
          "metadata": {},
          "output_type": "execute_result"
        }
      ],
      "source": [
        "not_readable_images"
      ]
    },
    {
      "cell_type": "code",
      "execution_count": null,
      "metadata": {
        "colab": {
          "base_uri": "https://localhost:8080/"
        },
        "id": "zCysc7II3I3q",
        "outputId": "f3c81b25-b78b-479c-e1ee-933dd9a77561"
      },
      "outputs": [
        {
          "name": "stdout",
          "output_type": "stream",
          "text": [
            "Attention! This will remove the images in not_readable_images from google drive! Number of Images: 20\n",
            "do you want to proceed? Enter yes..\n",
            "yes\n",
            "all files deleted!\n"
          ]
        }
      ],
      "source": [
        " # delete not readable images\n",
        "print(f\"Attention! This will remove the images in not_readable_images from google drive! Number of Images: {len(not_readable_images)}\")\n",
        "print(\"do you want to proceed? Enter yes..\")\n",
        "answer = input()\n",
        "if answer == 'yes':\n",
        "  for image in not_readable_images:\n",
        "    try:\n",
        "      os.remove(originals_dir+image)\n",
        "    except:\n",
        "      print(\"Error while deleting file : \", originals_dir+image)\n",
        "  print(\"all files deleted!\")\n",
        "else:\n",
        "  print(\"no files deleted\")\n"
      ]
    },
    {
      "cell_type": "markdown",
      "metadata": {
        "id": "73BRZf3Y6BV8"
      },
      "source": [
        "### Labelling"
      ]
    },
    {
      "cell_type": "markdown",
      "metadata": {
        "id": "EYC0GUI5ZAEO"
      },
      "source": [
        "#### Label function"
      ]
    },
    {
      "cell_type": "markdown",
      "metadata": {
        "id": "Y2lmY8R1AJ4D"
      },
      "source": [
        "Define the labelling() function. The labels are stored in a dictionary. Make sure to export to CSV from time to time (compare next step)."
      ]
    },
    {
      "cell_type": "code",
      "execution_count": 6,
      "metadata": {
        "id": "W99k2oIWKd1K"
      },
      "outputs": [],
      "source": [
        "#do the labelling for not yet labelled items\n",
        "def labelling():\n",
        "  maxCount = 2\n",
        "  count = 0\n",
        "  sleep_seconds = 2\n",
        "\n",
        "  for k,v in label_dict.items():\n",
        "    if fn_select_images(from_datetime=\"20221006 1240\",to_datetime=\"20221006 2300\",image_name=k) and v == ['windDirectionDummy', 'WindForceDummy']  and count < maxCount and k not in not_readable_images:\n",
        "      count += 1\n",
        "      print(f\"Image: {k} - is loading..\")\n",
        "      image = io.imread(originals_dir+k)\n",
        "      fig = plt.figure(1,figsize= (40,15))\n",
        "      chart0 = fig.add_subplot(121)\n",
        "      chart1 = fig.add_subplot(122)\n",
        "        #plt.imshow(image)\n",
        "      chart0.imshow(image)\n",
        "      chart1.imshow(image[220:350,550:700,:]) #vor 28. September 2022\n",
        "        #chart1.imshow(image[180:320,470:600,:]) #ab 28. September 2022\n",
        "      plt.show()\n",
        "      sleep(sleep_seconds)\n",
        "\n",
        "      print(f'Flag showing to ? for {k}: n,l,r,u,d,0')\n",
        "        #l - flag showing to the left (wind coming from the right..)\n",
        "        #r - flag showing to the right\n",
        "        #u - flag showing up\n",
        "        #d - flag showing down\n",
        "        #n - no wind (no direction)\n",
        "        #0 - not defined (when it's hard to say..)\n",
        "        #again - show the image again DOES NOT WORK!\n",
        "      input_wind_direction = input() #To do: make sure only valid categories will be safed\n",
        "      print(f'Enter wind force for {k}: (n,w,m,s,0') #To do: make sure only valid categories will be safed\n",
        "      #n - no wind (flag down)\n",
        "      #w - weak wind (flag up to 45 degrees)\n",
        "      #m - middle wind (flag from 45 degrees to horizontal)\n",
        "      #s - strong wind (flag almost horizontal or horizontal)\n",
        "      #0 - not defined (when it's hard to say..)\n",
        "      input_wind_force = input()\n",
        "      label_dict[k] = [input_wind_direction, input_wind_force]\n",
        "      print(f\"Labels for {k} saved to label_dict.\")\n",
        "      clear_output()\n",
        "  print(f\"{count} labels entered - please consider saving the results to labels.csv from time to time..\")"
      ]
    },
    {
      "cell_type": "code",
      "execution_count": 7,
      "metadata": {
        "colab": {
          "base_uri": "https://localhost:8080/",
          "height": 598
        },
        "id": "yonA-Sol7KXu",
        "outputId": "97a0178f-f148-4f4a-f337-8a1be4f0446e"
      },
      "outputs": [
        {
          "output_type": "stream",
          "name": "stdout",
          "text": [
            "2 labels entered - please consider saving the results to labels.csv from time to time..\n"
          ]
        }
      ],
      "source": [
        "labelling() #if you want to see the image again or if problems occur just stop and restart the code block.000"
      ]
    },
    {
      "cell_type": "markdown",
      "metadata": {
        "id": "BQfL5hIRR5z4"
      },
      "source": [
        "### Save results to labels.csv"
      ]
    },
    {
      "cell_type": "code",
      "execution_count": null,
      "metadata": {
        "id": "OQ9AORixDkn_"
      },
      "outputs": [],
      "source": [
        "#Safe all labels to labels.csv:\n",
        "column_names = ['wind_direction','wind_force']\n",
        "label_df_from_dict = pd.DataFrame.from_dict(data=label_dict, orient='index',columns=column_names)\n",
        "label_df_from_dict.to_csv(master_dir+\"labels.csv\")"
      ]
    },
    {
      "cell_type": "code",
      "execution_count": null,
      "metadata": {
        "id": "Rz2iBegpDq6c"
      },
      "outputs": [],
      "source": [
        "#Safe labels with old camera perspective to labels_old_camera.csv:\n",
        "\n",
        "#Create dictionary\n",
        "label_dict_old_camera = {}\n",
        "for k,v in label_dict.items():\n",
        "  if fn_select_images(from_datetime=\"20220920 0600\",to_datetime=\"20220926 1857\",image_name=k) and v != ['windDirectionDummy', 'WindForceDummy']:\n",
        "    #print(k, sep = \"\\n\")\n",
        "    label_dict_old_camera[k] = v\n",
        "\n",
        "#Save to CSV\n",
        "column_names = ['wind_direction','wind_force']\n",
        "label_df_from_dict_old_camera = pd.DataFrame.from_dict(data=label_dict_old_camera, orient='index',columns=column_names)\n",
        "label_df_from_dict_old_camera.to_csv(master_dir+\"labels_old_camera.csv\")\n",
        "\n"
      ]
    },
    {
      "cell_type": "code",
      "execution_count": null,
      "metadata": {
        "id": "QVCdmWndx2y6"
      },
      "outputs": [],
      "source": [
        "#Safe test-labels with new camera perspective to labels_test_set.csv:\n",
        "\n",
        "#Create dictionary\n",
        "label_dict_test_set = {}\n",
        "for k,v in label_dict.items():\n",
        "  if fn_select_images(from_datetime=\"20221006 1240\",to_datetime=\"20221006 2300\",image_name=k) and v != ['windDirectionDummy', 'WindForceDummy']:\n",
        "    #print(k, sep = \"\\n\")\n",
        "    label_dict_test_set[k] = v\n",
        "\n",
        "#Save to CSV\n",
        "column_names = ['wind_direction','wind_force']\n",
        "label_df_from_dict_test_set = pd.DataFrame.from_dict(data=label_dict_test_set, orient='index',columns=column_names)\n",
        "label_df_from_dict_test_set.to_csv(master_dir+\"labels_test_set.csv\")"
      ]
    },
    {
      "cell_type": "markdown",
      "metadata": {
        "id": "gdqzwYX8Y3R1"
      },
      "source": [
        "#### Label Updates, Quality Checks"
      ]
    },
    {
      "cell_type": "markdown",
      "metadata": {
        "id": "v7DSGWd8QPaP"
      },
      "source": [
        "Within the next code block we can alter (correct) existing labels:"
      ]
    },
    {
      "cell_type": "code",
      "execution_count": null,
      "metadata": {
        "colab": {
          "base_uri": "https://localhost:8080/"
        },
        "id": "JA8StUjyQMnk",
        "outputId": "d7adf4ca-7da7-4e8a-b68a-393aceaaa33d"
      },
      "outputs": [
        {
          "data": {
            "text/plain": [
              "['l', 'w']"
            ]
          },
          "execution_count": 43,
          "metadata": {},
          "output_type": "execute_result"
        }
      ],
      "source": [
        "#get the value list for a specific key:\n",
        "label_dict.get('D20221006_125057_3785.jpg')\n",
        "\n",
        "#change the value list for a specific key:\n",
        "#label_dict['D20221006_141057_9231.jpg'] = ['r','m']\n",
        "\n",
        "#Seach for keys with specific values:\n",
        "#keys = [k for k, v in label_dict.items() if v == ['0','0']]\n",
        "#print(*keys, sep = \"\\n\")"
      ]
    },
    {
      "cell_type": "markdown",
      "metadata": {
        "id": "CKRsU_eFZJDv"
      },
      "source": [
        "Show images for specific values:"
      ]
    },
    {
      "cell_type": "code",
      "execution_count": null,
      "metadata": {
        "id": "6vw_cPsIZGcJ"
      },
      "outputs": [],
      "source": [
        "#Seach for keys with specific values:\n",
        "keys = [k for k, v in label_dict.items() if v == ['l','w']]\n",
        "sleep_seconds = 7\n",
        "\n",
        "#Show the images for those keys:\n",
        "\n",
        "for k in keys:\n",
        "  image = io.imread(originals_dir+k)\n",
        "  fig = plt.figure(1,figsize= (16,9))\n",
        "  plt.title('Image: ' + k + '  -  Labels: Direction: ' + label_dict.get(k)[0] + ', Force: ' + label_dict.get(k)[1])\n",
        "  plt.xlabel('pixels in width')\n",
        "  plt.ylabel('pixels in height')\n",
        "  print(k)\n",
        "  plt.imshow(image)\n",
        "  plt.show()\n",
        "  sleep(sleep_seconds)\n",
        "  clear_output()\n",
        "  \n"
      ]
    },
    {
      "cell_type": "code",
      "execution_count": null,
      "metadata": {
        "id": "pG1lvVh2OCwf"
      },
      "outputs": [],
      "source": [
        "#Show image for image_name\n",
        "image = io.imread(originals_dir+'D20221006_141057_9231.jpg')\n",
        "fig = plt.figure(1,figsize= (40,15))\n",
        "chart0 = fig.add_subplot(121)\n",
        "chart1 = fig.add_subplot(122)\n",
        "chart0.imshow(image)\n",
        "chart1.imshow(image[220:350,550:700,:]) #vor 28. September 2022\n",
        "        #chart1.imshow(image[180:320,470:600,:]) #ab 28. September 2022\n",
        "plt.show()"
      ]
    }
  ],
  "metadata": {
    "colab": {
      "collapsed_sections": [
        "u2Fxs52v5Z9f"
      ],
      "provenance": []
    },
    "kernelspec": {
      "display_name": "Python 3",
      "name": "python3"
    },
    "language_info": {
      "name": "python"
    }
  },
  "nbformat": 4,
  "nbformat_minor": 0
}